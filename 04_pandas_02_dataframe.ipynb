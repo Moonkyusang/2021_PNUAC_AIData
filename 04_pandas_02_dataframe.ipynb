{
  "nbformat": 4,
  "nbformat_minor": 0,
  "metadata": {
    "colab": {
      "name": "04_pandas_02_dataframe.ipynb",
      "provenance": [],
      "collapsed_sections": [
        "c1kVpPdfNRTZ",
        "CR5LSrBWNMD0",
        "JS_gxUnAOHSE",
        "UO8Dw3XWxi97",
        "Cj62A7iA2MuH",
        "OQkafCZj21TB"
      ],
      "include_colab_link": true
    },
    "interpreter": {
      "hash": "b3ba2566441a7c06988d0923437866b63cedc61552a5af99d1f4fb67d367b25f"
    },
    "kernelspec": {
      "display_name": "Python 3.8.5 64-bit ('base': conda)",
      "name": "python3"
    },
    "language_info": {
      "name": "python",
      "version": ""
    }
  },
  "cells": [
    {
      "cell_type": "markdown",
      "metadata": {
        "id": "view-in-github",
        "colab_type": "text"
      },
      "source": [
        "<a href=\"https://colab.research.google.com/github/Moonkyusang/2021_PNUAC_AIData/blob/main/04_pandas_02_dataframe.ipynb\" target=\"_parent\"><img src=\"https://colab.research.google.com/assets/colab-badge.svg\" alt=\"Open In Colab\"/></a>"
      ]
    },
    {
      "cell_type": "markdown",
      "metadata": {
        "id": "c91S0nenHIgF"
      },
      "source": [
        "# **DataFrame**\n",
        "+ 2차원 자료구조인 DataFrame는 행과 열이 있는 테이블 데이터\n"
      ]
    },
    {
      "cell_type": "markdown",
      "metadata": {
        "id": "5PCO1T_6HkNU"
      },
      "source": [
        "## **pandas 라이브러리 추가**"
      ]
    },
    {
      "cell_type": "code",
      "metadata": {
        "id": "TRAkQWf2HhxB"
      },
      "source": [
        "import pandas as pd"
      ],
      "execution_count": 28,
      "outputs": []
    },
    {
      "cell_type": "markdown",
      "metadata": {
        "id": "gUzx35xJMkFR"
      },
      "source": [
        "## 데이터프레임으로 변환\n",
        "* **pd.DataFrame()**"
      ]
    },
    {
      "cell_type": "markdown",
      "metadata": {
        "id": "e5uyCBVVIiLR"
      },
      "source": [
        ""
      ]
    },
    {
      "cell_type": "markdown",
      "metadata": {
        "id": "c1kVpPdfNRTZ"
      },
      "source": [
        "###  리스트를 데이터프레임으로 변환"
      ]
    },
    {
      "cell_type": "code",
      "metadata": {
        "id": "CIOZ77trF5l9"
      },
      "source": [
        "area = ['서울',\t'부산',\t'대구',\t'인천',\t'광주',\t'대전',\t'울산',\t'세종',\t'경기',\t'강원',\t'충북',\t'충남',\t'전북',\t'전남',\t'경북',\t'경남',\t'제주']\n",
        "pm25_avg = [20,13,15,20,19,16,14,18,20,14,19,23,23,14,15,13,14]\n",
        "pm25_max = [22,18,18,30,23,20,16,19,27,18,26,29,30,27,23,17,16]\n",
        "pm25_min = [16,10,11,12,15,12,11,17,13,9,14,19,14,10,8,9,11]"
      ],
      "execution_count": 29,
      "outputs": []
    },
    {
      "cell_type": "code",
      "metadata": {
        "colab": {
          "base_uri": "https://localhost:8080/",
          "height": 576
        },
        "id": "VVTw0bVSNedW",
        "outputId": "d2fb9e2d-a448-44d0-f44e-0de88966a20c"
      },
      "source": [
        "#데이터 프레임 생성하기\n",
        "df=pd.DataFrame()\n",
        "df['지역']= area\n",
        "df['평균']= pm25_avg\n",
        "df['최대']= pm25_max\n",
        "df['최소']= pm25_min\n",
        "\n",
        "df"
      ],
      "execution_count": 30,
      "outputs": [
        {
          "output_type": "execute_result",
          "data": {
            "text/html": [
              "<div>\n",
              "<style scoped>\n",
              "    .dataframe tbody tr th:only-of-type {\n",
              "        vertical-align: middle;\n",
              "    }\n",
              "\n",
              "    .dataframe tbody tr th {\n",
              "        vertical-align: top;\n",
              "    }\n",
              "\n",
              "    .dataframe thead th {\n",
              "        text-align: right;\n",
              "    }\n",
              "</style>\n",
              "<table border=\"1\" class=\"dataframe\">\n",
              "  <thead>\n",
              "    <tr style=\"text-align: right;\">\n",
              "      <th></th>\n",
              "      <th>지역</th>\n",
              "      <th>평균</th>\n",
              "      <th>최대</th>\n",
              "      <th>최소</th>\n",
              "    </tr>\n",
              "  </thead>\n",
              "  <tbody>\n",
              "    <tr>\n",
              "      <th>0</th>\n",
              "      <td>서울</td>\n",
              "      <td>20</td>\n",
              "      <td>22</td>\n",
              "      <td>16</td>\n",
              "    </tr>\n",
              "    <tr>\n",
              "      <th>1</th>\n",
              "      <td>부산</td>\n",
              "      <td>13</td>\n",
              "      <td>18</td>\n",
              "      <td>10</td>\n",
              "    </tr>\n",
              "    <tr>\n",
              "      <th>2</th>\n",
              "      <td>대구</td>\n",
              "      <td>15</td>\n",
              "      <td>18</td>\n",
              "      <td>11</td>\n",
              "    </tr>\n",
              "    <tr>\n",
              "      <th>3</th>\n",
              "      <td>인천</td>\n",
              "      <td>20</td>\n",
              "      <td>30</td>\n",
              "      <td>12</td>\n",
              "    </tr>\n",
              "    <tr>\n",
              "      <th>4</th>\n",
              "      <td>광주</td>\n",
              "      <td>19</td>\n",
              "      <td>23</td>\n",
              "      <td>15</td>\n",
              "    </tr>\n",
              "    <tr>\n",
              "      <th>5</th>\n",
              "      <td>대전</td>\n",
              "      <td>16</td>\n",
              "      <td>20</td>\n",
              "      <td>12</td>\n",
              "    </tr>\n",
              "    <tr>\n",
              "      <th>6</th>\n",
              "      <td>울산</td>\n",
              "      <td>14</td>\n",
              "      <td>16</td>\n",
              "      <td>11</td>\n",
              "    </tr>\n",
              "    <tr>\n",
              "      <th>7</th>\n",
              "      <td>세종</td>\n",
              "      <td>18</td>\n",
              "      <td>19</td>\n",
              "      <td>17</td>\n",
              "    </tr>\n",
              "    <tr>\n",
              "      <th>8</th>\n",
              "      <td>경기</td>\n",
              "      <td>20</td>\n",
              "      <td>27</td>\n",
              "      <td>13</td>\n",
              "    </tr>\n",
              "    <tr>\n",
              "      <th>9</th>\n",
              "      <td>강원</td>\n",
              "      <td>14</td>\n",
              "      <td>18</td>\n",
              "      <td>9</td>\n",
              "    </tr>\n",
              "    <tr>\n",
              "      <th>10</th>\n",
              "      <td>충북</td>\n",
              "      <td>19</td>\n",
              "      <td>26</td>\n",
              "      <td>14</td>\n",
              "    </tr>\n",
              "    <tr>\n",
              "      <th>11</th>\n",
              "      <td>충남</td>\n",
              "      <td>23</td>\n",
              "      <td>29</td>\n",
              "      <td>19</td>\n",
              "    </tr>\n",
              "    <tr>\n",
              "      <th>12</th>\n",
              "      <td>전북</td>\n",
              "      <td>23</td>\n",
              "      <td>30</td>\n",
              "      <td>14</td>\n",
              "    </tr>\n",
              "    <tr>\n",
              "      <th>13</th>\n",
              "      <td>전남</td>\n",
              "      <td>14</td>\n",
              "      <td>27</td>\n",
              "      <td>10</td>\n",
              "    </tr>\n",
              "    <tr>\n",
              "      <th>14</th>\n",
              "      <td>경북</td>\n",
              "      <td>15</td>\n",
              "      <td>23</td>\n",
              "      <td>8</td>\n",
              "    </tr>\n",
              "    <tr>\n",
              "      <th>15</th>\n",
              "      <td>경남</td>\n",
              "      <td>13</td>\n",
              "      <td>17</td>\n",
              "      <td>9</td>\n",
              "    </tr>\n",
              "    <tr>\n",
              "      <th>16</th>\n",
              "      <td>제주</td>\n",
              "      <td>14</td>\n",
              "      <td>16</td>\n",
              "      <td>11</td>\n",
              "    </tr>\n",
              "  </tbody>\n",
              "</table>\n",
              "</div>"
            ],
            "text/plain": [
              "    지역  평균  최대  최소\n",
              "0   서울  20  22  16\n",
              "1   부산  13  18  10\n",
              "2   대구  15  18  11\n",
              "3   인천  20  30  12\n",
              "4   광주  19  23  15\n",
              "5   대전  16  20  12\n",
              "6   울산  14  16  11\n",
              "7   세종  18  19  17\n",
              "8   경기  20  27  13\n",
              "9   강원  14  18   9\n",
              "10  충북  19  26  14\n",
              "11  충남  23  29  19\n",
              "12  전북  23  30  14\n",
              "13  전남  14  27  10\n",
              "14  경북  15  23   8\n",
              "15  경남  13  17   9\n",
              "16  제주  14  16  11"
            ]
          },
          "metadata": {
            "tags": []
          },
          "execution_count": 30
        }
      ]
    },
    {
      "cell_type": "code",
      "metadata": {
        "colab": {
          "base_uri": "https://localhost:8080/"
        },
        "id": "h4a2b73e33WN",
        "outputId": "a170b8a2-54e9-4ade-be7f-b56d6e45cd8a"
      },
      "source": [
        "df['지역']"
      ],
      "execution_count": 31,
      "outputs": [
        {
          "output_type": "execute_result",
          "data": {
            "text/plain": [
              "0     서울\n",
              "1     부산\n",
              "2     대구\n",
              "3     인천\n",
              "4     광주\n",
              "5     대전\n",
              "6     울산\n",
              "7     세종\n",
              "8     경기\n",
              "9     강원\n",
              "10    충북\n",
              "11    충남\n",
              "12    전북\n",
              "13    전남\n",
              "14    경북\n",
              "15    경남\n",
              "16    제주\n",
              "Name: 지역, dtype: object"
            ]
          },
          "metadata": {
            "tags": []
          },
          "execution_count": 31
        }
      ]
    },
    {
      "cell_type": "code",
      "metadata": {
        "colab": {
          "base_uri": "https://localhost:8080/"
        },
        "id": "D2XPYMOe36Tl",
        "outputId": "e20c2054-ffe2-4a6c-f39f-4325413f15b5"
      },
      "source": [
        "type(df['지역'])"
      ],
      "execution_count": 32,
      "outputs": [
        {
          "output_type": "execute_result",
          "data": {
            "text/plain": [
              "pandas.core.series.Series"
            ]
          },
          "metadata": {
            "tags": []
          },
          "execution_count": 32
        }
      ]
    },
    {
      "cell_type": "markdown",
      "metadata": {
        "id": "JS_gxUnAOHSE"
      },
      "source": [
        "## 외부 데이터 가져오기\n",
        "+ csv 읽기\n",
        " - 한글 파일명을 사용할 경우 : df = pd.read_csv(‘파일명‘, engine='python')\n",
        " - 파일 내용 한글이 깨지는 경우 : df = pd.read_csv(‘파일명‘, engine='python', encoding='cp949')\n",
        ">\n",
        "```\n",
        "df = pd.read_csv(‘파일명‘)\n",
        "```\n",
        "\n",
        "+ 엑셀 읽기\n",
        " - 한글 파일명을 사용할 경우 : df = pd.read_excel(‘파일명‘)\n",
        ">\n",
        "```\n",
        "df = pd.pd.read_excel(‘파일명‘)\n",
        "```"
      ]
    },
    {
      "cell_type": "code",
      "metadata": {
        "id": "rgf7xNS2Owfw"
      },
      "source": [
        "#지역별주간별_초미세먼지.csv 자료 가져오기\n",
        "#df = pd.read_csv('/content/지역별주간별_초미세먼지.csv',engine='python',encoding='cp949')\n",
        "#df"
      ],
      "execution_count": 33,
      "outputs": []
    },
    {
      "cell_type": "markdown",
      "metadata": {
        "id": "2UfN4l5eRHfr"
      },
      "source": [
        "## 데이터프레임(DataFrame) 살펴보기\n",
        "* 데이터프레임의 정보 : **df.info()**\n",
        " - 데이터프레임에 대한 전반적인 정보\n",
        " - 데이터프레임을 구성하는 행과 열의 크기, 컬럼명, 컬럼을 구성하는 값의 자료형 등을 출력\n",
        "+ 데이터프레임의 크기 확인 : **df.shape 속성**\n",
        " - (행, 열) 크기를 확인하기\n",
        " - 행의 개수 : len(데이터프레임), len(.index), .shape[0]\n",
        " - 열의 개수 : len(.column), .shape[1]\n",
        "+ 데이터프레임의 원소의 총개수 : **df.size 속성**\n",
        "+ 데이터프레임 개수 확인 :**df.count()**\n",
        " - Null이 아닌 행의 개수 확인\n",
        " - axis='columns' : Null이 아닌 열의 개수 확인\n",
        "* 데이터프레임의 인덱스 \n",
        " + 열의 인덱스 : **df.colums**\n",
        " + 행의 인덱스 : **df.index**\n",
        " + **데이터프레임의 인덱스 변경**\n",
        "   - 열인덱스 명 변경 : df.column = [열명인덱스]\n",
        "   - 열항목 중 하나를 인덱스로 사용 : df.set_index(열명)\n",
        "   - 인덱스를 일반 데이터 열로 전환 : df.reset_index()"
      ]
    },
    {
      "cell_type": "code",
      "metadata": {
        "colab": {
          "base_uri": "https://localhost:8080/"
        },
        "id": "RPDi18n9SGRu",
        "outputId": "bf2d4bb4-96ea-49af-abf5-2724bb74058c"
      },
      "source": [
        "#데이터프레임의 정보\n",
        "df.info()"
      ],
      "execution_count": 34,
      "outputs": [
        {
          "output_type": "stream",
          "text": [
            "<class 'pandas.core.frame.DataFrame'>\n",
            "RangeIndex: 17 entries, 0 to 16\n",
            "Data columns (total 4 columns):\n",
            " #   Column  Non-Null Count  Dtype \n",
            "---  ------  --------------  ----- \n",
            " 0   지역      17 non-null     object\n",
            " 1   평균      17 non-null     int64 \n",
            " 2   최대      17 non-null     int64 \n",
            " 3   최소      17 non-null     int64 \n",
            "dtypes: int64(3), object(1)\n",
            "memory usage: 672.0+ bytes\n"
          ],
          "name": "stdout"
        }
      ]
    },
    {
      "cell_type": "code",
      "metadata": {
        "colab": {
          "base_uri": "https://localhost:8080/"
        },
        "id": "6TsNgT0b3Js7",
        "outputId": "73ed6c4c-3469-44e6-90d5-d6b0102db252"
      },
      "source": [
        "#데이터프레임의 크기 확인\n",
        "print('데이터프레임 (행, 열) : ', df.shape)\n",
        "print('데이터프레임 행 개수 len : ', len(df))\n",
        "print('데이터프레임 행 개수 len : ', len(df.index)  )\n",
        "print('데이터프레임 행 개수 shape : ', df.shape[0])\n",
        "print('데이터프레임 열 개수 len : ', len(df.columns))\n",
        "print('데이터프레임 열 개수 shape : ', df.shape[1])"
      ],
      "execution_count": 35,
      "outputs": [
        {
          "output_type": "stream",
          "text": [
            "데이터프레임 (행, 열) :  (17, 4)\n",
            "데이터프레임 행 개수 len :  17\n",
            "데이터프레임 행 개수 len :  17\n",
            "데이터프레임 행 개수 shape :  17\n",
            "데이터프레임 열 개수 len :  4\n",
            "데이터프레임 열 개수 shape :  4\n"
          ],
          "name": "stdout"
        }
      ]
    },
    {
      "cell_type": "code",
      "metadata": {
        "id": "fwn9tqpwb5zr"
      },
      "source": [
        "from google.colab import drive\n",
        "drive.mount('/content/drive')"
      ],
      "execution_count": null,
      "outputs": []
    },
    {
      "cell_type": "code",
      "metadata": {
        "id": "x820CTxf7sUS"
      },
      "source": [
        "#데이터프레임 각 열의개수 확인\n",
        "print(df.count())\n",
        "print('-'*20)\n",
        "print(df.count(axis='columns'))"
      ],
      "execution_count": null,
      "outputs": []
    },
    {
      "cell_type": "code",
      "metadata": {
        "id": "-_PcsEFSDcsV"
      },
      "source": [
        "#데이터프레임의 원소의 총개수\n",
        "print(df.size)"
      ],
      "execution_count": null,
      "outputs": []
    },
    {
      "cell_type": "code",
      "metadata": {
        "id": "1VWiVWQ_SQtl"
      },
      "source": [
        "#데이터프레임의 인덱스\n",
        "print('열인덱스 : ', df.columns)\n",
        "print('행인덱스 :',df.index)"
      ],
      "execution_count": null,
      "outputs": []
    },
    {
      "cell_type": "code",
      "metadata": {
        "id": "HTgaV9Y47zOt"
      },
      "source": [
        "#각 문자열 요소에서 공백 제거\n",
        "lt = ['지역 ', '주간평균 ', '최고값 ', '최저값 ']\n",
        "lt = [item.strip() for item in lt ]\n",
        "lt"
      ],
      "execution_count": null,
      "outputs": []
    },
    {
      "cell_type": "code",
      "metadata": {
        "id": "DOgIflpZ7n8x"
      },
      "source": [
        "df['지역 ']"
      ],
      "execution_count": null,
      "outputs": []
    },
    {
      "cell_type": "code",
      "metadata": {
        "id": "DxsgZnmASZ-V"
      },
      "source": [
        "#열명의 공백 제거 \n",
        "df.columns= [item.strip() for item in df.columns]\n",
        "df.columns"
      ],
      "execution_count": null,
      "outputs": []
    },
    {
      "cell_type": "code",
      "metadata": {
        "id": "r__w0YOR8WD4"
      },
      "source": [
        "df['지역']"
      ],
      "execution_count": null,
      "outputs": []
    },
    {
      "cell_type": "code",
      "metadata": {
        "id": "SI96LxJ1UTrM"
      },
      "source": [
        "#지역 컬럼을 행 인덱스로 지정\n",
        "df=df.set_index('지역')\n",
        "df"
      ],
      "execution_count": null,
      "outputs": []
    },
    {
      "cell_type": "code",
      "metadata": {
        "id": "6bZemWyo8zvB"
      },
      "source": [
        "df.index"
      ],
      "execution_count": null,
      "outputs": []
    },
    {
      "cell_type": "code",
      "metadata": {
        "id": "4lb34DSsUm_8"
      },
      "source": [
        "#인덱스를 일반 데이터 열로 전환\n",
        "df=df.reset_index()\n",
        "df"
      ],
      "execution_count": null,
      "outputs": []
    },
    {
      "cell_type": "markdown",
      "metadata": {
        "id": "UO8Dw3XWxi97"
      },
      "source": [
        "## **데이터프레임 인덱싱(indexing)과 슬라이싱(slicing)**\n"
      ]
    },
    {
      "cell_type": "code",
      "metadata": {
        "id": "kDu43olQ6-t_"
      },
      "source": [
        "df = df.set_index('지역')\n",
        "df.head()"
      ],
      "execution_count": null,
      "outputs": []
    },
    {
      "cell_type": "markdown",
      "metadata": {
        "id": "Cj62A7iA2MuH"
      },
      "source": [
        "### df[]\n",
        " + 특정 열 가져오기 : df[열인덱스], df[열인덱스 리스트]\n",
        " + 특정 행 가져오기 : df[시작행인덱스:종료행인덱스]  "
      ]
    },
    {
      "cell_type": "code",
      "metadata": {
        "id": "y7CwJ-BjzTDe"
      },
      "source": [
        "#특정 열(주간평균) 가져오기\n",
        "df['주간평균']"
      ],
      "execution_count": null,
      "outputs": []
    },
    {
      "cell_type": "code",
      "metadata": {
        "id": "xCoa2WpIzZAn"
      },
      "source": [
        "##특정 열(주간평균, 최저값) 가져오기\n",
        " "
      ],
      "execution_count": null,
      "outputs": []
    },
    {
      "cell_type": "code",
      "metadata": {
        "id": "Wm0TBqD42hKZ"
      },
      "source": [
        "#특정행(부산에서 인천까지) 가져오기\n",
        " "
      ],
      "execution_count": null,
      "outputs": []
    },
    {
      "cell_type": "markdown",
      "metadata": {
        "id": "OQkafCZj21TB"
      },
      "source": [
        "### df.loc[행인덱스, 열인덱스]\n",
        "* 특정 열 가져오기 : df.loc[:, 열인덱스]\n",
        "* 특정 행 가져오기 : df.loc[행인덱스, :]\n",
        "* 특정 항목 가져오기 : df.loc[행인덱스, 열인덱스]"
      ]
    },
    {
      "cell_type": "code",
      "metadata": {
        "id": "swVsCX2Z_xZd"
      },
      "source": [
        "df['최저값']"
      ],
      "execution_count": null,
      "outputs": []
    },
    {
      "cell_type": "code",
      "metadata": {
        "id": "ur3fWQue4mkE"
      },
      "source": [
        "#loc 메소드로 특정 열(최저값) 가져오기\n"
      ],
      "execution_count": null,
      "outputs": []
    },
    {
      "cell_type": "code",
      "metadata": {
        "id": "HlMs_CJfArKV"
      },
      "source": [
        "#loc 메소드로 특정 열(최저값) 가져와서 메소드를 사용하여 데이터프레임으로 변환\n",
        " "
      ],
      "execution_count": null,
      "outputs": []
    },
    {
      "cell_type": "code",
      "metadata": {
        "id": "goZEZ4z_AxCn"
      },
      "source": [
        "#loc 메소드로 특정 열(최저값) 가져와서 메소드 없이 데이터프레임으로 변환\n",
        "df.loc[:, ['최저값']]"
      ],
      "execution_count": null,
      "outputs": []
    },
    {
      "cell_type": "code",
      "metadata": {
        "id": "pTfKZPju4s8N"
      },
      "source": [
        "#loc 메소드로 특정 열(주간평균, 최저값) 가져오기\n",
        " "
      ],
      "execution_count": null,
      "outputs": []
    },
    {
      "cell_type": "code",
      "metadata": {
        "id": "4LCD_xQ340Ai"
      },
      "source": [
        "#loc 메소드로 특정 열(주간평균에서 최저값까지) 가져오기\n",
        " "
      ],
      "execution_count": null,
      "outputs": []
    },
    {
      "cell_type": "code",
      "metadata": {
        "id": "PvhrPBZp49jO"
      },
      "source": [
        "#특정 행(부산) 가져오기\n",
        " "
      ],
      "execution_count": null,
      "outputs": []
    },
    {
      "cell_type": "code",
      "metadata": {
        "id": "XAy3Zu3G5Pj3"
      },
      "source": [
        "#특정 행(부산, 인천) 가져오기"
      ],
      "execution_count": null,
      "outputs": []
    },
    {
      "cell_type": "code",
      "metadata": {
        "id": "fvfrg_sp5DjV"
      },
      "source": [
        "#특정 행(부산에서 인천까지) 가져오기"
      ],
      "execution_count": null,
      "outputs": []
    },
    {
      "cell_type": "code",
      "metadata": {
        "id": "JaH23lSz5U1q"
      },
      "source": [
        "#특정 항목(부산의 주간평균) 가져오기\n",
        " "
      ],
      "execution_count": null,
      "outputs": []
    },
    {
      "cell_type": "code",
      "metadata": {
        "id": "JzZvoYtp5d_X"
      },
      "source": [
        "#특정 항목(부산과 인천의 주간평균과 최저값) 가져오기\n",
        " "
      ],
      "execution_count": null,
      "outputs": []
    },
    {
      "cell_type": "code",
      "metadata": {
        "id": "_Ec3ZWyu5kVA"
      },
      "source": [
        "#특정 항목(부산에서 인천까지의 주간평균에서 최저값까지) 가져오기"
      ],
      "execution_count": null,
      "outputs": []
    },
    {
      "cell_type": "markdown",
      "metadata": {
        "id": "9vn-EO9V58vy"
      },
      "source": [
        "### df.iloc[행인덱스순서, 열인덱스순서]\n",
        "* 특정 열 가져오기 : df.loc[:, 열인덱스순서]\n",
        "* 특정 행 가져오기 : df.loc[행인덱스순서, :]\n",
        "* 특정 항목 가져오기 : df.loc[행인덱스순서, 열인덱스순서]"
      ]
    },
    {
      "cell_type": "code",
      "metadata": {
        "id": "gO8u92nq6Wwe"
      },
      "source": [
        "#특정 열 가져오기\n",
        "#df.loc[:, '최저값'] \n",
        "#iloc로 변경"
      ],
      "execution_count": null,
      "outputs": []
    },
    {
      "cell_type": "code",
      "metadata": {
        "id": "JLqavk_Q6dSJ"
      },
      "source": [
        "#df.loc[:, ['주간평균', '최저값']]\n",
        "#iloc로 변경"
      ],
      "execution_count": null,
      "outputs": []
    },
    {
      "cell_type": "code",
      "metadata": {
        "id": "hiV1UrDQ6lNJ"
      },
      "source": [
        "#df.loc[:, '주간평균':'최저값']\n",
        "#iloc로 변경"
      ],
      "execution_count": null,
      "outputs": []
    },
    {
      "cell_type": "code",
      "metadata": {
        "id": "0eKovdGO6xxy"
      },
      "source": [
        "#특정 행 가져오기\n",
        "#df.loc['부산',:]\n",
        "#iloc로 변경"
      ],
      "execution_count": null,
      "outputs": []
    },
    {
      "cell_type": "code",
      "metadata": {
        "id": "fQt4kZCR63yx"
      },
      "source": [
        "#df.loc[['부산', '인천'], :]\n",
        "#iloc로 변경"
      ],
      "execution_count": null,
      "outputs": []
    },
    {
      "cell_type": "code",
      "metadata": {
        "id": "8sSgV4QzAGZS"
      },
      "source": [
        "#df.loc['부산':'인천', :]\n",
        "#iloc로 변경"
      ],
      "execution_count": null,
      "outputs": []
    },
    {
      "cell_type": "code",
      "metadata": {
        "id": "xweF6XzvAIVR"
      },
      "source": [
        "#특정 항목 가져오기\n",
        "#df.loc['부산', '주간평균']\n",
        "#iloc로 변경"
      ],
      "execution_count": null,
      "outputs": []
    },
    {
      "cell_type": "code",
      "metadata": {
        "id": "nhAX9CKmAJ0N"
      },
      "source": [
        "#df.loc[['부산','인천'],['주간평균', '최저값']]\n",
        "#iloc로 변경"
      ],
      "execution_count": null,
      "outputs": []
    },
    {
      "cell_type": "code",
      "metadata": {
        "id": "V-HoJIUAAMm-"
      },
      "source": [
        "#df.loc['부산':'인천','주간평균':'최저값']\n",
        "#iloc로 변경"
      ],
      "execution_count": null,
      "outputs": []
    },
    {
      "cell_type": "markdown",
      "metadata": {
        "id": "vvpKts0-Bd-U"
      },
      "source": [
        "## **데이터프레임(DataFrame) 기본 조회와 기초 통계 메소드**\n",
        "* head(n) : 상위 n개 조회, n생략 시 5개 조회\n",
        "+ tail(n) : 하위 n개 조회, n생략 시 5개 조회\n",
        "+ describe() : 요약 통계량 계산\n",
        "+ mean() : 평균\n",
        "+ max() : 최대\n",
        "+ min() : 최소\n",
        "+ std()  : 표준편차"
      ]
    },
    {
      "cell_type": "code",
      "metadata": {
        "id": "Xl1QlqoKCdag"
      },
      "source": [
        "df.head(2)"
      ],
      "execution_count": null,
      "outputs": []
    },
    {
      "cell_type": "code",
      "metadata": {
        "id": "bSbGKI_8CdYN"
      },
      "source": [
        "df.tail(2)"
      ],
      "execution_count": null,
      "outputs": []
    },
    {
      "cell_type": "code",
      "metadata": {
        "id": "AFi0th9aCsbf"
      },
      "source": [
        "df.describe()"
      ],
      "execution_count": null,
      "outputs": []
    },
    {
      "cell_type": "markdown",
      "metadata": {
        "id": "H_xl7uLIEn_c"
      },
      "source": [
        "## 자주사용되는 메소드\n",
        "+ 행열 전환 : df.T\n",
        "+ 정렬\n",
        " - 행열 인덱스 정렬 : df.sort_index(axis=n), n생략 또는 0:행, 1:열\n",
        " - 행렬 값 정렬 : df.sort_values()"
      ]
    },
    {
      "cell_type": "code",
      "metadata": {
        "id": "Cij_DtKNgN-d"
      },
      "source": [
        "df"
      ],
      "execution_count": null,
      "outputs": []
    },
    {
      "cell_type": "code",
      "metadata": {
        "id": "SWJiNVmBBqh2"
      },
      "source": [
        "#행과 열 바꾸기"
      ],
      "execution_count": null,
      "outputs": []
    },
    {
      "cell_type": "code",
      "metadata": {
        "id": "GOBRXRIYgaA9"
      },
      "source": [
        "#한글 폰트 사용설치\n",
        "%config InlineBackend.figure_format = 'retina'\n",
        "\n",
        "!apt -qq -y install fonts-nanum"
      ],
      "execution_count": null,
      "outputs": []
    },
    {
      "cell_type": "code",
      "metadata": {
        "id": "k_tE7uvdCu5Y"
      },
      "source": [
        "import pandas as pd"
      ],
      "execution_count": null,
      "outputs": []
    },
    {
      "cell_type": "code",
      "metadata": {
        "id": "JyBT3d_3gcPR"
      },
      "source": [
        "import matplotlib.pyplot as plt\n",
        " \n",
        "import matplotlib as mpl\n",
        "import matplotlib.font_manager as fm\n",
        "fontpath = '/usr/share/fonts/truetype/nanum/NanumBarunGothic.ttf'\n",
        "font = fm.FontProperties(fname=fontpath, size=9)\n",
        "plt.rc('font', family='NanumBarunGothic') \n",
        "mpl.font_manager._rebuild()\n",
        "\n",
        "import warnings\n",
        "warnings.filterwarnings('ignore')"
      ],
      "execution_count": null,
      "outputs": []
    },
    {
      "cell_type": "code",
      "metadata": {
        "id": "HXYI8OL8Cp7m"
      },
      "source": [
        "#주간별 지역별주간별_초미세먼지.csv 데이터 가져오기\n",
        "df"
      ],
      "execution_count": null,
      "outputs": []
    },
    {
      "cell_type": "code",
      "metadata": {
        "id": "fClxsVoqCz_U"
      },
      "source": [
        "#지역으로 인덱스 변경\n",
        " "
      ],
      "execution_count": null,
      "outputs": []
    },
    {
      "cell_type": "code",
      "metadata": {
        "id": "lEFzRXkJC5vv"
      },
      "source": [
        "df.head()"
      ],
      "execution_count": null,
      "outputs": []
    },
    {
      "cell_type": "code",
      "metadata": {
        "id": "u0z6vc3EgP0s"
      },
      "source": [
        "#데이터 프레임 그래프 그리기"
      ],
      "execution_count": null,
      "outputs": []
    }
  ]
}